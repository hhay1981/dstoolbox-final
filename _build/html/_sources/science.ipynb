{
 "cells": [
  {
   "cell_type": "markdown",
   "id": "c5041095",
   "metadata": {},
   "source": [
    "(content:references:cs)=\n",
    "# Contributions to Science\n",
    "\n",
    "(content:references:ug)=\n",
    "## Newton's Law of Universal Gravitation\n",
    "### History\n",
    "Sir Issac Newton was an English mathematician, physicist, astronomer, alchemist, theologian, and author (described in his time as a \"natural philosopher\"), widely recognised as one of the greatest mathematicians and physicists and among the most influential scientists of all time.<br><br>\n",
    "\n",
    "```{figure} https://i.natgeofe.com/n/faf6f6b2-3d6f-4fee-82ed-77a2f28c0063/11606.jpg?w=636&h=437\n",
    "\n",
    "height:400px\n",
    "name:newton-figure\n",
    "---\n",
    "Sir Isaac Newton surrounded by symbols of some of his greatest findings\n",
    "```\n",
    "{numref}`newton-figure`\n",
    "\n",
    "```{margin} \n",
    "Newton also  formulated the Laws of Motion in his book, Mathematical Principles of Natural Philosophy\n",
    "```\n",
    "(content:references:sd)=\n",
    "### Simple Definition\n",
    "Newton's Law of Gravitation states that any particle of matter in the universe attracts any other with a force varying directly as the product of the masses and inversely as the square of the distance between them.\n",
    "\n",
    "(content:references:eq)=\n",
    "### Equation\n",
    "The equation for universal gravition is written as:<br><br>\n",
    "$$ F=G\\frac{{m_1}{m_2}}{{r^2}} $$ (universal_grav)\n",
    "- $F$ is the gravitational force acting between two objects \n",
    "- $G$ is the gravitational constant\n",
    "- $m_1$ and $m_2$ are the masses of the objects \n",
    "- $r$ is the distance between the centers of their masses\n",
    "\n",
    "A link to the universal gravition block: {eq}`universal_grav`\n",
    "\n",
    "(content:references:ds)=\n",
    "### Datasets\n",
    "If we wanted to look at more astronomy data, we could download a dataset from [data.world](https://data.world/markmarkoh/future-asteroids) and load it like this:"
   ]
  },
  {
   "cell_type": "code",
   "execution_count": 1,
   "id": "0ab909a6",
   "metadata": {},
   "outputs": [
    {
     "ename": "SyntaxError",
     "evalue": "EOL while scanning string literal (2224961958.py, line 2)",
     "output_type": "error",
     "traceback": [
      "\u001b[1;36m  Cell \u001b[1;32mIn[1], line 2\u001b[1;36m\u001b[0m\n\u001b[1;33m    asteroids_df = pd.read_csv(\"./data/raw/future.csv)\u001b[0m\n\u001b[1;37m                                                      ^\u001b[0m\n\u001b[1;31mSyntaxError\u001b[0m\u001b[1;31m:\u001b[0m EOL while scanning string literal\n"
     ]
    }
   ],
   "source": [
    "import pandas as pd\n",
    "asteroids_df = pd.read_csv(\"./data/raw/future.csv)\n",
    "asteroids_df"
   ]
  },
  {
   "cell_type": "markdown",
   "id": "82e1f543",
   "metadata": {},
   "source": [
    "<br>\n",
    "\n",
    "(content:references:to)=\n",
    "## Telescopic Observation of Mars\n",
    "Galileo Galilei was the first person to observe Mars with a primitive telescope in 1610. However, Mars has been documented for at least 4000 years so it is impossible to credit a specific person with it's discovery.\n",
    "\n",
    "`````{admonition} Do you want to see an impressive telescope?\n",
    ":class: tip\n",
    "\n",
    "Visit the The Dominion Astrophysical Observatory in Victoria!\n",
    "`````\n",
    "\n",
    "(content:references:his)=\n",
    "### History\n",
    "Galileo was an Italian astronomer, physicist and engineer, sometimes described as a polymath. His contributions to observational astronomy include telescopic confirmation of the phases of Venus, observation of the four largest satellites of Jupiter, observation of Saturn's rings, and analysis of lunar craters and sunspots.\n",
    "<br><br>\n",
    "\n",
    "```{figure} https://upload.wikimedia.org/wikipedia/commons/thumb/d/d4/Justus_Sustermans_-_Portrait_of_Galileo_Galilei%2C_1636.jpg/330px-Justus_Sustermans_-_Portrait_of_Galileo_Galilei%2C_1636.jpg\n",
    "\n",
    "height:400px\n",
    "name:galileo-figure\n",
    "---\n",
    "Galileo Galilei in a 1636 portrait by Justus Sustermans\n",
    "```\n",
    "{numref}`galileo-figure`\n",
    "\n",
    "\n",
    "`````{admonition} Did you know?\n",
    ":class: note\n",
    "\n",
    "Galileo has been called the father of observational astronomy, modern physics, the scientific method, and modern science.\n",
    "`````\n",
    "\n",
    "(content:references:ms)=\n",
    "### Mars Stats\n",
    "- Mars has a mass of $m_{j} \\approx 6.42 \\times 10^{23} \\: \\text {kg}$, about 10 times less than Earth\n",
    "- Mars has a volume of  $1.6318 \\times 10^{11} \\: \\text {kg}^{3}$, which is the equivalent of 0.151 Earths\n",
    "- Mars has a density of $3.93 \\: \\text {g}/{cm}^3$, lower than the Earth’s density\n",
    "\n",
    "(content:references:calc)=\n",
    "### Calculations\n",
    "Here is how we could create a dictionary to store the ratio between gravity on another planet and Earth, so in future we could calculate what objects would weigh there.\n",
    "```python\n",
    "gravity_ratio_dict = {\n",
    "    \"Mercury\": 38,\n",
    "    \"Venus\": 91,\n",
    "    \"Earth\": 100,\n",
    "    \"Mars\": 38,\n",
    "    \"Jupiter\": 234,\n",
    "    \"Saturn\": 106,\n",
    "    \"Uranus\": 92,\n",
    "    \"Neptune\": 119,\n",
    "}\n",
    "```\n",
    "\n",
    "Here is my citation for calculating weight on other planets {cite}`planet_weight`.\n",
    "\n",
    ">**Here are some cross-references to the sections:**<br>\n",
    "[Contributions to Science](content:references:cs)<br>\n",
    "[Newton's Law](content:references:ug)<br>\n",
    "[Simple Definition](content:references:sd)<br>\n",
    "[Equation](content:references:eq)<br>\n",
    "[Datasets](content:references:ds)<br>\n",
    "[Telescopic Observation of Mars](content:references:to)<br>\n",
    "[History](content:references:his)<br>\n",
    "[Mars Stats](content:references:ms)<br>\n",
    "[Calculations](content:references:calc)<br>\n",
    "\n",
    "\n",
    ">**Here are some references to the figures:**<br>\n",
    "{numref}`newton-figure`<br>\n",
    "{numref}`galileo-figure`<br>"
   ]
  }
 ],
 "metadata": {
  "jupytext": {
   "cell_metadata_filter": "-all",
   "formats": "md:myst",
   "text_representation": {
    "extension": ".md",
    "format_name": "myst",
    "format_version": 0.13,
    "jupytext_version": "1.14.4"
   }
  },
  "kernelspec": {
   "display_name": "Python 3",
   "language": "python",
   "name": "python3"
  },
  "language_info": {
   "codemirror_mode": {
    "name": "ipython",
    "version": 3
   },
   "file_extension": ".py",
   "mimetype": "text/x-python",
   "name": "python",
   "nbconvert_exporter": "python",
   "pygments_lexer": "ipython3",
   "version": "3.9.15"
  },
  "source_map": [
   14,
   54,
   58
  ]
 },
 "nbformat": 4,
 "nbformat_minor": 5
}